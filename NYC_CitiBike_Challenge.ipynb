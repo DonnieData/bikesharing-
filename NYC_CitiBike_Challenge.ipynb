{
 "cells": [
  {
   "cell_type": "code",
   "execution_count": 1,
   "metadata": {
    "execution": {
     "iopub.execute_input": "2021-01-24T03:59:16.428469Z",
     "iopub.status.busy": "2021-01-24T03:59:16.428469Z",
     "iopub.status.idle": "2021-01-24T03:59:16.433456Z",
     "shell.execute_reply": "2021-01-24T03:59:16.432458Z",
     "shell.execute_reply.started": "2021-01-24T03:59:16.428469Z"
    }
   },
   "outputs": [],
   "source": [
    "import pandas as pd"
   ]
  },
  {
   "cell_type": "code",
   "execution_count": 98,
   "metadata": {
    "execution": {
     "iopub.execute_input": "2021-01-24T06:17:43.727276Z",
     "iopub.status.busy": "2021-01-24T06:17:43.699398Z",
     "iopub.status.idle": "2021-01-24T06:17:50.103869Z",
     "shell.execute_reply": "2021-01-24T06:17:50.103869Z",
     "shell.execute_reply.started": "2021-01-24T06:17:43.726271Z"
    }
   },
   "outputs": [],
   "source": [
    "# 1. Create a DataFrame for the 201908-citibike-tripdata data. \n",
    "citibike_data = pd.read_csv('201908-citibike-tripdata.csv')"
   ]
  },
  {
   "cell_type": "code",
   "execution_count": 99,
   "metadata": {
    "execution": {
     "iopub.execute_input": "2021-01-24T06:17:50.869812Z",
     "iopub.status.busy": "2021-01-24T06:17:50.869812Z",
     "iopub.status.idle": "2021-01-24T06:17:51.064375Z",
     "shell.execute_reply": "2021-01-24T06:17:51.064375Z",
     "shell.execute_reply.started": "2021-01-24T06:17:50.869812Z"
    }
   },
   "outputs": [
    {
     "data": {
      "text/html": [
       "<div>\n",
       "<style scoped>\n",
       "    .dataframe tbody tr th:only-of-type {\n",
       "        vertical-align: middle;\n",
       "    }\n",
       "\n",
       "    .dataframe tbody tr th {\n",
       "        vertical-align: top;\n",
       "    }\n",
       "\n",
       "    .dataframe thead th {\n",
       "        text-align: right;\n",
       "    }\n",
       "</style>\n",
       "<table border=\"1\" class=\"dataframe\">\n",
       "  <thead>\n",
       "    <tr style=\"text-align: right;\">\n",
       "      <th></th>\n",
       "      <th>tripduration</th>\n",
       "      <th>starttime</th>\n",
       "      <th>stoptime</th>\n",
       "      <th>start station id</th>\n",
       "      <th>start station name</th>\n",
       "      <th>start station latitude</th>\n",
       "      <th>start station longitude</th>\n",
       "      <th>end station id</th>\n",
       "      <th>end station name</th>\n",
       "      <th>end station latitude</th>\n",
       "      <th>end station longitude</th>\n",
       "      <th>bikeid</th>\n",
       "      <th>usertype</th>\n",
       "      <th>birth year</th>\n",
       "      <th>gender</th>\n",
       "    </tr>\n",
       "  </thead>\n",
       "  <tbody>\n",
       "    <tr>\n",
       "      <th>1389065</th>\n",
       "      <td>1067</td>\n",
       "      <td>2019-08-19 08:13:36.4770</td>\n",
       "      <td>2019-08-19 08:31:24.4650</td>\n",
       "      <td>3687.0</td>\n",
       "      <td>E 33 St &amp; 1 Ave</td>\n",
       "      <td>40.743227</td>\n",
       "      <td>-73.974498</td>\n",
       "      <td>473.0</td>\n",
       "      <td>Rivington St &amp; Chrystie St</td>\n",
       "      <td>40.721101</td>\n",
       "      <td>-73.991925</td>\n",
       "      <td>35306</td>\n",
       "      <td>Subscriber</td>\n",
       "      <td>1971</td>\n",
       "      <td>2</td>\n",
       "    </tr>\n",
       "    <tr>\n",
       "      <th>1722760</th>\n",
       "      <td>248</td>\n",
       "      <td>2019-08-23 17:22:25.1930</td>\n",
       "      <td>2019-08-23 17:26:33.6650</td>\n",
       "      <td>3737.0</td>\n",
       "      <td>Stanton St &amp; Norfolk St</td>\n",
       "      <td>40.720747</td>\n",
       "      <td>-73.986274</td>\n",
       "      <td>473.0</td>\n",
       "      <td>Rivington St &amp; Chrystie St</td>\n",
       "      <td>40.721101</td>\n",
       "      <td>-73.991925</td>\n",
       "      <td>32701</td>\n",
       "      <td>Subscriber</td>\n",
       "      <td>1993</td>\n",
       "      <td>2</td>\n",
       "    </tr>\n",
       "    <tr>\n",
       "      <th>735901</th>\n",
       "      <td>1152</td>\n",
       "      <td>2019-08-10 15:05:56.3560</td>\n",
       "      <td>2019-08-10 15:25:08.8050</td>\n",
       "      <td>3172.0</td>\n",
       "      <td>W 74 St &amp; Columbus Ave</td>\n",
       "      <td>40.778567</td>\n",
       "      <td>-73.977550</td>\n",
       "      <td>3172.0</td>\n",
       "      <td>W 74 St &amp; Columbus Ave</td>\n",
       "      <td>40.778567</td>\n",
       "      <td>-73.977550</td>\n",
       "      <td>19195</td>\n",
       "      <td>Subscriber</td>\n",
       "      <td>1978</td>\n",
       "      <td>1</td>\n",
       "    </tr>\n",
       "  </tbody>\n",
       "</table>\n",
       "</div>"
      ],
      "text/plain": [
       "         tripduration                 starttime                  stoptime  \\\n",
       "1389065          1067  2019-08-19 08:13:36.4770  2019-08-19 08:31:24.4650   \n",
       "1722760           248  2019-08-23 17:22:25.1930  2019-08-23 17:26:33.6650   \n",
       "735901           1152  2019-08-10 15:05:56.3560  2019-08-10 15:25:08.8050   \n",
       "\n",
       "         start station id       start station name  start station latitude  \\\n",
       "1389065            3687.0          E 33 St & 1 Ave               40.743227   \n",
       "1722760            3737.0  Stanton St & Norfolk St               40.720747   \n",
       "735901             3172.0   W 74 St & Columbus Ave               40.778567   \n",
       "\n",
       "         start station longitude  end station id            end station name  \\\n",
       "1389065               -73.974498           473.0  Rivington St & Chrystie St   \n",
       "1722760               -73.986274           473.0  Rivington St & Chrystie St   \n",
       "735901                -73.977550          3172.0      W 74 St & Columbus Ave   \n",
       "\n",
       "         end station latitude  end station longitude  bikeid    usertype  \\\n",
       "1389065             40.721101             -73.991925   35306  Subscriber   \n",
       "1722760             40.721101             -73.991925   32701  Subscriber   \n",
       "735901              40.778567             -73.977550   19195  Subscriber   \n",
       "\n",
       "         birth year  gender  \n",
       "1389065        1971       2  \n",
       "1722760        1993       2  \n",
       "735901         1978       1  "
      ]
     },
     "execution_count": 99,
     "metadata": {},
     "output_type": "execute_result"
    },
    {
     "name": "stdout",
     "output_type": "stream",
     "text": [
      "<class 'pandas.core.frame.DataFrame'>\n",
      "RangeIndex: 2344224 entries, 0 to 2344223\n",
      "Data columns (total 15 columns):\n",
      " #   Column                   Dtype  \n",
      "---  ------                   -----  \n",
      " 0   tripduration             int64  \n",
      " 1   starttime                object \n",
      " 2   stoptime                 object \n",
      " 3   start station id         float64\n",
      " 4   start station name       object \n",
      " 5   start station latitude   float64\n",
      " 6   start station longitude  float64\n",
      " 7   end station id           float64\n",
      " 8   end station name         object \n",
      " 9   end station latitude     float64\n",
      " 10  end station longitude    float64\n",
      " 11  bikeid                   int64  \n",
      " 12  usertype                 object \n",
      " 13  birth year               int64  \n",
      " 14  gender                   int64  \n",
      "dtypes: float64(6), int64(4), object(5)\n",
      "memory usage: 268.3+ MB\n"
     ]
    }
   ],
   "source": [
    "# 2. Check the datatypes of your columns. \n",
    "citibike_data.sample(3)\n",
    "citibike_data.info()"
   ]
  },
  {
   "cell_type": "code",
   "execution_count": 100,
   "metadata": {
    "execution": {
     "iopub.execute_input": "2021-01-24T06:17:52.785612Z",
     "iopub.status.busy": "2021-01-24T06:17:52.785612Z",
     "iopub.status.idle": "2021-01-24T06:17:52.794588Z",
     "shell.execute_reply": "2021-01-24T06:17:52.794588Z",
     "shell.execute_reply.started": "2021-01-24T06:17:52.785612Z"
    }
   },
   "outputs": [
    {
     "data": {
      "text/plain": [
       "0     393\n",
       "1     627\n",
       "2    1132\n",
       "3    1780\n",
       "4    1517\n",
       "Name: tripduration, dtype: int64"
      ]
     },
     "execution_count": 100,
     "metadata": {},
     "output_type": "execute_result"
    }
   ],
   "source": [
    "citibike_data.tripduration.head()"
   ]
  },
  {
   "cell_type": "code",
   "execution_count": 101,
   "metadata": {
    "execution": {
     "iopub.execute_input": "2021-01-24T06:17:55.483535Z",
     "iopub.status.busy": "2021-01-24T06:17:55.483535Z",
     "iopub.status.idle": "2021-01-24T06:17:55.604236Z",
     "shell.execute_reply": "2021-01-24T06:17:55.604236Z",
     "shell.execute_reply.started": "2021-01-24T06:17:55.483535Z"
    }
   },
   "outputs": [],
   "source": [
    "# 3. Convert the 'tripduration' column to datetime datatype.\n",
    "citibike_data.tripduration = pd.to_datetime(citibike_data.tripduration, unit='m')"
   ]
  },
  {
   "cell_type": "code",
   "execution_count": 102,
   "metadata": {
    "execution": {
     "iopub.execute_input": "2021-01-24T06:17:58.525786Z",
     "iopub.status.busy": "2021-01-24T06:17:58.525786Z",
     "iopub.status.idle": "2021-01-24T06:17:58.534724Z",
     "shell.execute_reply": "2021-01-24T06:17:58.533728Z",
     "shell.execute_reply.started": "2021-01-24T06:17:58.525786Z"
    }
   },
   "outputs": [
    {
     "name": "stdout",
     "output_type": "stream",
     "text": [
      "<class 'pandas.core.frame.DataFrame'>\n",
      "RangeIndex: 2344224 entries, 0 to 2344223\n",
      "Data columns (total 15 columns):\n",
      " #   Column                   Dtype         \n",
      "---  ------                   -----         \n",
      " 0   tripduration             datetime64[ns]\n",
      " 1   starttime                object        \n",
      " 2   stoptime                 object        \n",
      " 3   start station id         float64       \n",
      " 4   start station name       object        \n",
      " 5   start station latitude   float64       \n",
      " 6   start station longitude  float64       \n",
      " 7   end station id           float64       \n",
      " 8   end station name         object        \n",
      " 9   end station latitude     float64       \n",
      " 10  end station longitude    float64       \n",
      " 11  bikeid                   int64         \n",
      " 12  usertype                 object        \n",
      " 13  birth year               int64         \n",
      " 14  gender                   int64         \n",
      "dtypes: datetime64[ns](1), float64(6), int64(3), object(5)\n",
      "memory usage: 268.3+ MB\n"
     ]
    }
   ],
   "source": [
    "# 4. Check the datatypes of your columns. \n",
    "citibike_data.info()"
   ]
  },
  {
   "cell_type": "code",
   "execution_count": 103,
   "metadata": {
    "execution": {
     "iopub.execute_input": "2021-01-24T06:18:01.358095Z",
     "iopub.status.busy": "2021-01-24T06:18:01.358095Z",
     "iopub.status.idle": "2021-01-24T06:18:29.931940Z",
     "shell.execute_reply": "2021-01-24T06:18:29.931940Z",
     "shell.execute_reply.started": "2021-01-24T06:18:01.358095Z"
    }
   },
   "outputs": [],
   "source": [
    "# 5. Export the Dataframe as a new CSV file without the index.\n",
    "citibike_data.to_csv('citibike_tripdata.csv', index=False)"
   ]
  },
  {
   "cell_type": "code",
   "execution_count": 105,
   "metadata": {
    "execution": {
     "iopub.execute_input": "2021-01-24T06:25:11.757592Z",
     "iopub.status.busy": "2021-01-24T06:25:11.756596Z",
     "iopub.status.idle": "2021-01-24T06:25:11.783522Z",
     "shell.execute_reply": "2021-01-24T06:25:11.782523Z",
     "shell.execute_reply.started": "2021-01-24T06:25:11.757592Z"
    }
   },
   "outputs": [
    {
     "data": {
      "text/html": [
       "<div>\n",
       "<style scoped>\n",
       "    .dataframe tbody tr th:only-of-type {\n",
       "        vertical-align: middle;\n",
       "    }\n",
       "\n",
       "    .dataframe tbody tr th {\n",
       "        vertical-align: top;\n",
       "    }\n",
       "\n",
       "    .dataframe thead th {\n",
       "        text-align: right;\n",
       "    }\n",
       "</style>\n",
       "<table border=\"1\" class=\"dataframe\">\n",
       "  <thead>\n",
       "    <tr style=\"text-align: right;\">\n",
       "      <th></th>\n",
       "      <th>tripduration</th>\n",
       "      <th>starttime</th>\n",
       "      <th>stoptime</th>\n",
       "      <th>start station id</th>\n",
       "      <th>start station name</th>\n",
       "      <th>start station latitude</th>\n",
       "      <th>start station longitude</th>\n",
       "      <th>end station id</th>\n",
       "      <th>end station name</th>\n",
       "      <th>end station latitude</th>\n",
       "      <th>end station longitude</th>\n",
       "      <th>bikeid</th>\n",
       "      <th>usertype</th>\n",
       "      <th>birth year</th>\n",
       "      <th>gender</th>\n",
       "    </tr>\n",
       "  </thead>\n",
       "  <tbody>\n",
       "    <tr>\n",
       "      <th>0</th>\n",
       "      <td>1970-01-01 06:33:00</td>\n",
       "      <td>2019-08-01 00:00:01.4680</td>\n",
       "      <td>2019-08-01 00:06:35.3780</td>\n",
       "      <td>531.0</td>\n",
       "      <td>Forsyth St &amp; Broome St</td>\n",
       "      <td>40.718939</td>\n",
       "      <td>-73.992663</td>\n",
       "      <td>408.0</td>\n",
       "      <td>Market St &amp; Cherry St</td>\n",
       "      <td>40.710762</td>\n",
       "      <td>-73.994004</td>\n",
       "      <td>35305</td>\n",
       "      <td>Subscriber</td>\n",
       "      <td>1996</td>\n",
       "      <td>2</td>\n",
       "    </tr>\n",
       "    <tr>\n",
       "      <th>1</th>\n",
       "      <td>1970-01-01 10:27:00</td>\n",
       "      <td>2019-08-01 00:00:01.9290</td>\n",
       "      <td>2019-08-01 00:10:29.7840</td>\n",
       "      <td>274.0</td>\n",
       "      <td>Lafayette Ave &amp; Fort Greene Pl</td>\n",
       "      <td>40.686919</td>\n",
       "      <td>-73.976682</td>\n",
       "      <td>3409.0</td>\n",
       "      <td>Bergen St &amp; Smith St</td>\n",
       "      <td>40.686744</td>\n",
       "      <td>-73.990632</td>\n",
       "      <td>38822</td>\n",
       "      <td>Subscriber</td>\n",
       "      <td>1998</td>\n",
       "      <td>2</td>\n",
       "    </tr>\n",
       "    <tr>\n",
       "      <th>2</th>\n",
       "      <td>1970-01-01 18:52:00</td>\n",
       "      <td>2019-08-01 00:00:04.0480</td>\n",
       "      <td>2019-08-01 00:18:56.1650</td>\n",
       "      <td>2000.0</td>\n",
       "      <td>Front St &amp; Washington St</td>\n",
       "      <td>40.702551</td>\n",
       "      <td>-73.989402</td>\n",
       "      <td>3388.0</td>\n",
       "      <td>President St &amp; Henry St</td>\n",
       "      <td>40.682800</td>\n",
       "      <td>-73.999904</td>\n",
       "      <td>18373</td>\n",
       "      <td>Subscriber</td>\n",
       "      <td>1988</td>\n",
       "      <td>1</td>\n",
       "    </tr>\n",
       "    <tr>\n",
       "      <th>3</th>\n",
       "      <td>1970-01-02 05:40:00</td>\n",
       "      <td>2019-08-01 00:00:04.1630</td>\n",
       "      <td>2019-08-01 00:29:44.7940</td>\n",
       "      <td>479.0</td>\n",
       "      <td>9 Ave &amp; W 45 St</td>\n",
       "      <td>40.760193</td>\n",
       "      <td>-73.991255</td>\n",
       "      <td>473.0</td>\n",
       "      <td>Rivington St &amp; Chrystie St</td>\n",
       "      <td>40.721101</td>\n",
       "      <td>-73.991925</td>\n",
       "      <td>25002</td>\n",
       "      <td>Subscriber</td>\n",
       "      <td>1988</td>\n",
       "      <td>1</td>\n",
       "    </tr>\n",
       "    <tr>\n",
       "      <th>4</th>\n",
       "      <td>1970-01-02 01:17:00</td>\n",
       "      <td>2019-08-01 00:00:05.4580</td>\n",
       "      <td>2019-08-01 00:25:23.4550</td>\n",
       "      <td>3312.0</td>\n",
       "      <td>1 Ave &amp; E 94 St</td>\n",
       "      <td>40.781721</td>\n",
       "      <td>-73.945940</td>\n",
       "      <td>3312.0</td>\n",
       "      <td>1 Ave &amp; E 94 St</td>\n",
       "      <td>40.781721</td>\n",
       "      <td>-73.945940</td>\n",
       "      <td>31198</td>\n",
       "      <td>Subscriber</td>\n",
       "      <td>1965</td>\n",
       "      <td>2</td>\n",
       "    </tr>\n",
       "  </tbody>\n",
       "</table>\n",
       "</div>"
      ],
      "text/plain": [
       "         tripduration                 starttime                  stoptime  \\\n",
       "0 1970-01-01 06:33:00  2019-08-01 00:00:01.4680  2019-08-01 00:06:35.3780   \n",
       "1 1970-01-01 10:27:00  2019-08-01 00:00:01.9290  2019-08-01 00:10:29.7840   \n",
       "2 1970-01-01 18:52:00  2019-08-01 00:00:04.0480  2019-08-01 00:18:56.1650   \n",
       "3 1970-01-02 05:40:00  2019-08-01 00:00:04.1630  2019-08-01 00:29:44.7940   \n",
       "4 1970-01-02 01:17:00  2019-08-01 00:00:05.4580  2019-08-01 00:25:23.4550   \n",
       "\n",
       "   start station id              start station name  start station latitude  \\\n",
       "0             531.0          Forsyth St & Broome St               40.718939   \n",
       "1             274.0  Lafayette Ave & Fort Greene Pl               40.686919   \n",
       "2            2000.0        Front St & Washington St               40.702551   \n",
       "3             479.0                 9 Ave & W 45 St               40.760193   \n",
       "4            3312.0                 1 Ave & E 94 St               40.781721   \n",
       "\n",
       "   start station longitude  end station id            end station name  \\\n",
       "0               -73.992663           408.0       Market St & Cherry St   \n",
       "1               -73.976682          3409.0        Bergen St & Smith St   \n",
       "2               -73.989402          3388.0     President St & Henry St   \n",
       "3               -73.991255           473.0  Rivington St & Chrystie St   \n",
       "4               -73.945940          3312.0             1 Ave & E 94 St   \n",
       "\n",
       "   end station latitude  end station longitude  bikeid    usertype  \\\n",
       "0             40.710762             -73.994004   35305  Subscriber   \n",
       "1             40.686744             -73.990632   38822  Subscriber   \n",
       "2             40.682800             -73.999904   18373  Subscriber   \n",
       "3             40.721101             -73.991925   25002  Subscriber   \n",
       "4             40.781721             -73.945940   31198  Subscriber   \n",
       "\n",
       "   birth year  gender  \n",
       "0        1996       2  \n",
       "1        1998       2  \n",
       "2        1988       1  \n",
       "3        1988       1  \n",
       "4        1965       2  "
      ]
     },
     "execution_count": 105,
     "metadata": {},
     "output_type": "execute_result"
    }
   ],
   "source": [
    "citibike_data.head()"
   ]
  }
 ],
 "metadata": {
  "kernelspec": {
   "display_name": "PythonData",
   "language": "python",
   "name": "pythondata"
  },
  "language_info": {
   "codemirror_mode": {
    "name": "ipython",
    "version": 3
   },
   "file_extension": ".py",
   "mimetype": "text/x-python",
   "name": "python",
   "nbconvert_exporter": "python",
   "pygments_lexer": "ipython3",
   "version": "3.7.9"
  }
 },
 "nbformat": 4,
 "nbformat_minor": 4
}
